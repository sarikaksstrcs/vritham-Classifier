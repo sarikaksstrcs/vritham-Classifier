{
  "cells": [
    {
      "cell_type": "markdown",
      "metadata": {
        "id": "lPavb5VedslH"
      },
      "source": [
        "Import Area"
      ]
    },
    {
      "cell_type": "code",
      "execution_count": null,
      "metadata": {
        "id": "cVYh6eGZg8Xv"
      },
      "outputs": [],
      "source": [
        "# cell 1\n",
        "import csv\n",
        "import difflib\n",
        "import pandas as pd\n",
        "from tqdm import tqdm\n",
        "import requests, codecs"
      ]
    },
    {
      "cell_type": "markdown",
      "metadata": {
        "id": "M7TXfZmddzF4"
      },
      "source": [
        "Read and Load from Sanskrit vritham database"
      ]
    },
    {
      "cell_type": "code",
      "execution_count": null,
      "metadata": {
        "id": "Fbg6zxSukuEE"
      },
      "outputs": [],
      "source": [
        "# cell 2\n",
        "# run cell 1 before this cell\n",
        "filename = 'https://raw.githubusercontent.com/dcbfoss/vritham/test/db/data.csv' # sanskrit only database\n",
        "#filename = 'https://raw.githubusercontent.com/dcbfoss/vritham/test/db/ml_data.csv' # sanskrit + malayalam database\n",
        "csvresponse = requests.get(filename)\n",
        "csvfile = codecs.iterdecode(csvresponse.iter_lines(), 'UTF-8')\n",
        "\n",
        "outputlist = []\n",
        "keydictionary = {}\n",
        " \n",
        "def check_GL(pattern): # return True if input only contains GL else False\n",
        "    pattern = pattern.upper()\n",
        "    for akshara in pattern:\n",
        "        if akshara not in ('G','L'):return False\n",
        "    return True\n",
        "    \n",
        "def check_maathra(akshara_pattern): # return True if input only contains NJYSBMTRGL else False\n",
        "    akshara_pattern=akshara_pattern.upper()\n",
        "    for akshara in akshara_pattern:\n",
        "        if akshara not in ('N','J','Y','S','B','M','T','R','G','L'):return False\n",
        "    return True\n",
        " \n",
        "def Compute_maathra(akshara_pattern): # calculate maathra input NJYSBMTRGL string/list\n",
        "    akshara_pattern=akshara_pattern.upper()\n",
        "    Maathra_table = {'N':3,'J':4,'Y':5,'S':4,'B':4,\n",
        "              'M':6,'T':5,'R':5,'G':2,'L':1}\n",
        "    maathra = 0\n",
        "    for akshara in akshara_pattern:\n",
        "        maathra += Maathra_table.get(akshara,0)\n",
        "    return maathra\n",
        " \n",
        "def get_maathra(text): # get NJYSBMTRGL from GL string\n",
        "    triplets = {'LLL':'N','LLG':'S','LGL':'J','LGG':'Y',\n",
        "                'GLL':'B','GLG':'R','GGL':'T','GGG':'M'}\n",
        "    output = ''\n",
        "    for i in range(0,len(text),3):\n",
        "        if len(text[i:i+3]) == 3:output += triplets.get(text[i:i+3].upper(),'')\n",
        "        else:output += text[i:i+3].upper()\n",
        "    return output\n",
        "\n",
        "def calculatemathra(arr): # calculate maathra input GL string/list\n",
        "    mathra = 0; scores = {'G':2,'L':1}\n",
        "    for x in arr:\n",
        "        mathra += scores.get(x.upper(),0)\n",
        "    return mathra\n",
        "\n",
        "def getGLtriplet(character):\n",
        "    valid = ['N','S','J','Y','B','R','T','M']\n",
        "    if character.upper() not in valid:return character.upper()\n",
        "    else:return str('{0:03b}'.format(valid.index(character.upper()))).replace('0','L').replace('1','G')\n",
        "\n",
        "def converttoGL(string):\n",
        "    output = ''\n",
        "    for character in string:\n",
        "        output+=getGLtriplet(character)\n",
        "    return output\n",
        " \n",
        "csvreader = csv.reader(csvfile)\n",
        "for row in csvreader:\n",
        "    if len(row[-1])>0:\n",
        "        keydictionary[row[-1].strip().upper()] = row[:-1]\n",
        "        keydictionary[row[-1].strip().upper()].append(Compute_maathra(row[-1].strip().upper()))\n",
        "        tlist = list(row)\n",
        "        tlist.append(Compute_maathra(row[-1].strip().upper()))\n",
        "        outputlist.append(tlist)\n",
        " \n",
        "with open('out.csv', 'w', encoding='utf-8') as outputfile:\n",
        "    csvwriter = csv.writer(outputfile)\n",
        "    csvwriter.writerows(outputlist)"
      ]
    },
    {
      "cell_type": "markdown",
      "metadata": {
        "id": "lmZKlSeHewv9"
      },
      "source": [
        "some statistical calculations and testing"
      ]
    },
    {
      "cell_type": "code",
      "execution_count": null,
      "metadata": {
        "colab": {
          "base_uri": "https://localhost:8080/"
        },
        "id": "I8_sLfRNjC4Z",
        "outputId": "b32d6c87-f5fb-4a53-854e-be53fea8d60b"
      },
      "outputs": [
        {
          "name": "stdout",
          "output_type": "stream",
          "text": [
            " \tS\tN\tJ\tB\tR\tY\tT\tM\tG\tL\t\n",
            "S\t23\t32\t23\t34\t7\t7\t4\t12\t0\t0\t\n",
            "N\t31\t97\t31\t23\t18\t10\t14\t6\t1\t0\t\n",
            "J\t28\t48\t20\t14\t14\t2\t7\t0\t0\t0\t\n",
            "B\t19\t41\t14\t44\t2\t8\t4\t9\t0\t0\t\n",
            "R\t4\t21\t20\t15\t23\t0\t1\t7\t0\t0\t\n",
            "Y\t4\t32\t8\t2\t0\t12\t8\t5\t0\t0\t\n",
            "T\t7\t10\t5\t8\t0\t1\t13\t7\t0\t0\t\n",
            "M\t3\t6\t0\t7\t1\t5\t1\t9\t1\t0\t\n",
            "G\t19\t22\t20\t26\t10\t4\t12\t6\t46\t38\t\n",
            "L\t7\t14\t6\t4\t8\t2\t2\t0\t3\t4\t\n"
          ]
        }
      ],
      "source": [
        "# cell 3\n",
        "# run cell 1 and 2 before this cell\n",
        "# matrix maker 2mer\n",
        "# find count of occurance of kmer (2mer) NN, BN, GL etc...\n",
        "def create_matrix(): # 2-mer array only :D\n",
        "    matrix = []\n",
        "    entries = ['S','N','J','B','R','Y','T','M','G','L']\n",
        "    for entry in entries:\n",
        "        matrix.append([0,0,0,0,0,0,0,0,0,0])\n",
        "    return matrix\n",
        "\n",
        "def create_kmers(data,merlength=2):\n",
        "    mers = []\n",
        "    for text in data:\n",
        "        for index in range(len(text)):\n",
        "            current_mer = text[index:index+merlength]\n",
        "            if len(current_mer)==merlength:mers.append(current_mer)\n",
        "    return mers\n",
        "entries = ['S','N','J','B','R','Y','T','M','G','L']\n",
        "vritham_matrix = create_matrix()\n",
        "kmers = create_kmers(keydictionary.keys())\n",
        "for kmer in kmers:\n",
        "    x = entries.index(kmer[0].upper())\n",
        "    y = entries.index(kmer[1].upper())\n",
        "    vritham_matrix[y][x]+=1\n",
        "y_arr = [' '];y_arr.extend(entries)\n",
        "y = [print(str(yval),end=\"\\t\")for yval in y_arr];print()\n",
        "for row_ind in range(len(vritham_matrix)):\n",
        "    x_d = [entries[row_ind]];x_d.extend(vritham_matrix[row_ind])\n",
        "    x = [print(str(xval),end=\"\\t\") for xval in x_d];print()"
      ]
    },
    {
      "cell_type": "code",
      "execution_count": null,
      "metadata": {
        "colab": {
          "base_uri": "https://localhost:8080/"
        },
        "id": "oup2ZD_rvdkt",
        "outputId": "2bd6b9a0-837d-4e46-daa2-2b100b2da7d3"
      },
      "outputs": [
        {
          "name": "stdout",
          "output_type": "stream",
          "text": [
            "['S', 'N', 'J', 'B', 'R', 'Y', 'T', 'M', 'G', 'L']\n",
            "[32, 93, 16, 37, 18, 8, 17, 34, 3, 2]\n",
            "[29, 59, 44, 40, 21, 16, 20, 14, 6, 1]\n",
            "[35, 72, 34, 37, 17, 8, 16, 9, 10, 5]\n",
            "[33, 39, 28, 25, 25, 24, 9, 6, 32, 11]\n",
            "[22, 31, 12, 21, 12, 13, 3, 3, 49, 13]\n",
            "[14, 21, 10, 10, 9, 3, 2, 0, 39, 11]\n",
            "[4, 7, 3, 6, 6, 5, 1, 1, 39, 2]\n",
            "[4, 2, 2, 2, 1, 2, 0, 0, 15, 4]\n",
            "[1, 0, 0, 0, 0, 0, 0, 0, 9, 3]\n",
            "[0, 0, 0, 0, 0, 0, 0, 0, 4, 0]\n",
            "\n",
            "sum \n",
            "---------------\n",
            "S = 174\n",
            "N = 324\n",
            "J = 149\n",
            "B = 178\n",
            "R = 109\n",
            "Y = 79\n",
            "T = 68\n",
            "M = 67\n",
            "G = 206\n",
            "L = 52\n"
          ]
        }
      ],
      "source": [
        "# cell 4\n",
        "# run cell 1 and 2 before this cell\n",
        "# matrix to find position occurance count\n",
        "# i.e, how many lakhshanam have S in position 1, G in position 3 etc...\n",
        "def create_matrix(values):\n",
        "    matrix = [['S','N','J','B','R','Y','T','M','G','L']]\n",
        "    for value in values:\n",
        "        for i in range(len(value)):\n",
        "            if len(matrix)<=i+1:matrix.append([0,0,0,0,0,0,0,0,0,0])\n",
        "            matrix[i+1][matrix[0].index(value[i].upper())] += 1\n",
        "    return matrix\n",
        "\n",
        "vritham_matrix = create_matrix(keydictionary.keys())\n",
        "for row in vritham_matrix:\n",
        "    print(row)\n",
        "\n",
        "print(\"\\nsum\",\"\\n\"+\"-\"*15) # just for decoration\n",
        "\n",
        "sum = [0,0,0,0,0,0,0,0,0,0]\n",
        "for row in range(1,len(vritham_matrix)):\n",
        "    for i in range(len(vritham_matrix[row])):\n",
        "        sum[i] = sum[i]+vritham_matrix[row][i]\n",
        "for i in range(len(sum)):\n",
        "    print(vritham_matrix[0][i],\"=\",sum[i])"
      ]
    },
    {
      "cell_type": "code",
      "execution_count": null,
      "metadata": {
        "colab": {
          "base_uri": "https://localhost:8080/"
        },
        "id": "DieoLZ9Rm1_s",
        "outputId": "78447b70-e251-4e27-aa59-62dfb6d4a87b"
      },
      "outputs": [
        {
          "name": "stdout",
          "output_type": "stream",
          "text": [
            ">MG\n",
            "['4', 'കന്യാ ', 'മഗം', '', '8', 8]\n",
            ">\n"
          ]
        }
      ],
      "source": [
        "# cell 5\n",
        "# run cell 1 and 2 before this cell\n",
        "# test area\n",
        "# test command: 'LLLLGLLLLLLGG'\n",
        "# test command: 'MG'\n",
        "command = input('>')\n",
        "while not command=='':\n",
        "    if check_maathra(command):\n",
        "        if check_GL(command):\n",
        "            maathra = get_maathra(command);print(maathra)\n",
        "            testdata = keydictionary.get(maathra,'No entry Found')\n",
        "        else:\n",
        "            testdata = keydictionary.get(command.upper(),'No entry Found')\n",
        "        print(testdata)\n",
        "    else:\n",
        "        print('Wrong Input Found')\n",
        "    command = input('>')"
      ]
    },
    {
      "cell_type": "code",
      "execution_count": null,
      "metadata": {
        "id": "ZyY1_Dod5QFI"
      },
      "outputs": [],
      "source": [
        "# cell 6\n",
        "def laghuguru():\n",
        "    syllables=self.syllables()\n",
        "    output = ['L' for syllable in syllables]\n",
        "    chillu = (3450, 3451, 3452, 3453, 3454)\n",
        "    g_characters = (3334, 3336, 3338, 3343, 3347, 3348, 3390, 3392, 3394, 3399, 3403, 3404, 3415, 3330, 3331)\n",
        "    for index, syllable in enumerate(syllables):\n",
        "        if ord(syllable[-1]) in chillu:output[index] = '-'\n",
        "        elif ord(syllable[-1]) in g_characters:output[index] = 'G'\n",
        "        elif len(syllable)>2 and index>0:\n",
        "            if output[index-1]=='-' and index-2>=0:output[index-2]='G'\n",
        "            elif output[index-1]=='L':output[index-1]='G'\n",
        "            else:pass\n",
        "    return ''.join(output)\n",
        "\n",
        "def laghuguru(self):\n",
        "        syllable=self.syllables()\n",
        "        size=len(syllable)\n",
        "        mathra=[None]*size\n",
        "        for oneChar in syllable:\n",
        "            if not oneChar  in ['ആ', 'ഈ', 'ഊ', 'ഏ', 'ഓ', 'ഔ']:\n",
        "                if not oneChar[-1][-1] in ['ാ', 'ീ', 'ൂ', 'േ', 'ൈ', 'ോ', 'ൌ', 'ൗ', 'ം', 'ഃ']:\n",
        "                    syindex=syllable.index(oneChar)\n",
        "                    if (syllable.count(oneChar)>0):\n",
        "                        for index, value in enumerate(syllable):\n",
        "                            if (value ==oneChar):\n",
        "                                mathra[index] = 'L'\n",
        "        \n",
        "            if (len(oneChar)>= 1):\n",
        "                if oneChar[-1][-1] in ['്']:\n",
        "                    if (syllable.count(oneChar)==1):\n",
        "                        syindex=syllable.index(oneChar)\n",
        "                        mathra[syindex]=' '\n",
        "                    else:\n",
        "                        for index, value in enumerate(syllable):\n",
        "                            if (value ==oneChar):\n",
        "                                mathra[index]=' '\n",
        "                if oneChar  in ['ആ', 'ഈ', 'ഊ', 'ഏ', 'ഓ', 'ഔ']:\n",
        "                    if (syllable.count(oneChar)==1):\n",
        "                        syindex=syllable.index(oneChar)\n",
        "                        mathra[syindex]='G'\n",
        "                    else:\n",
        "                        if (syllable.count(oneChar)>0):\n",
        "                            for index, value in enumerate(syllable):\n",
        "                                if (value ==oneChar):mathra[index] = 'G'\n",
        "                if oneChar[-1][-1] in ['ാ', 'ീ', 'ൂ', 'േ', 'ൈ', 'ോ', 'ൌ', 'ൗ', 'ം', 'ഃ']:\n",
        "                    if (syllable.count(oneChar)==1):\n",
        "                        syindex=syllable.index(oneChar)\n",
        "                        mathra[syindex]='G'\n",
        "                    else:\n",
        "                        if (syllable.count(oneChar)>0):\n",
        "                            for index, value in enumerate(syllable):\n",
        "                                if (value ==oneChar):mathra[index] = 'G'\n",
        "            for oneChar in syllable:\n",
        "                if (len(oneChar)> 2):\n",
        "                    if oneChar[1][0] in ['്']:\n",
        "                        if (syllable.count(oneChar)==1):\n",
        "                            syindex=syllable.index(oneChar)\n",
        "                            mathra[syindex-1]='G'\n",
        "                        else:\n",
        "                            for index, value in enumerate(syllable):\n",
        "                                if (value ==oneChar):\n",
        "                                    mathra[index-1]='G'\n",
        "                                          \n",
        "                if (len(oneChar)>= 2):\n",
        "                    if oneChar[-1][-1] in ['ൈ']:\n",
        "                        if (syllable.count(oneChar)==1):\n",
        "                            syindex=syllable.index(oneChar)\n",
        "                            mathra[syindex-1]='G'\n",
        "                        else:\n",
        "                            for index, value in enumerate(syllable):\n",
        "                                if (value ==oneChar):\n",
        "                                    mathra[index-1]='G'\n",
        "  \n",
        "       \n",
        "            for oneChar in syllable:\n",
        "                if oneChar in ['ൺ', 'ൻ', 'ർ', 'ൽ', 'ൾ']:\n",
        "                    if (syllable.count(oneChar)==1):\n",
        "                        syindex=syllable.index(oneChar)\n",
        "                        mathra[syindex]=' '\n",
        "                    else:\n",
        "                        if (syllable.count(oneChar)>0):\n",
        "                            for index, value in enumerate(syllable):\n",
        "                                if (value ==oneChar):mathra[index] = ' '\n",
        "\n",
        "        #print(mathra,end='')\n",
        "        return mathra\n",
        "\"\"\"    This code still work. Storing just for reference\n",
        "    def laghuguru(self):\n",
        "        mathra = [None for i in range(len(self))]\n",
        "        Hswara_array = [chr(swara) for swara in [3334, 3336, 3338, 3343, 3347, 3348]]\n",
        "        Hsign_array = [chr(sign) for sign in [3390, 3392, 3394, 3399, 3400, 3403, 3404, 3415, 3330, 3331]]\n",
        "        chilu_array = [chr(chilu) for chilu in [3450, 3451, 3452, 3453, 3454]]\n",
        "        this_syllables = self.syllables()\n",
        "        for oneChar in this_syllables:\n",
        "            if not oneChar in Hswara_array:\n",
        "                if not oneChar[-1][-1] in Hsign_array:\n",
        "                    if (this_syllables.count(oneChar)>0):\n",
        "                        for index, value in enumerate(this_syllables):\n",
        "                            if (value == oneChar):mathra[index] = 'L'\n",
        "            else:\n",
        "                for index, value in enumerate(this_syllables):\n",
        "                    if value == oneChar:mathra[index] = 'G'\n",
        "\n",
        "            if oneChar[-1][-1] in Hsign_array:\n",
        "                for index, value in enumerate(this_syllables):\n",
        "                    if value == oneChar:mathra[index] = 'G'\n",
        "\n",
        "            if (len(oneChar)>2):\n",
        "                if oneChar[1][0] in [chr(c) for c in [3405]]:\n",
        "                    for index, value in enumerate(this_syllables):\n",
        "                        if value == oneChar:\n",
        "                            mathra[index-1] = 'G'\n",
        "                            mathra[index] = 'L'\n",
        "\n",
        "            if (len(oneChar)>=2):\n",
        "                if oneChar[-1][-1] in [chr(c) for c in [3400]]:\n",
        "                    for index, value in enumerate(this_syllables):\n",
        "                        if value == oneChar:mathra[index-1] = 'G'\n",
        "\n",
        "            if len(oneChar)>=1:\n",
        "                if oneChar[-1][-1] in [chr(c) for c in [3405]]:\n",
        "                    for index, value in enumerate(this_syllables):\n",
        "                        if value == oneChar:mathra[index] = 'L'\n",
        "\n",
        "            if oneChar in chilu_array:\n",
        "                for index, value in enumerate(this_syllables):\n",
        "                    if value == oneChar:mathra[index] = ' '\n",
        "        return mathra\n",
        "\"\"\""
      ]
    },
    {
      "cell_type": "markdown",
      "metadata": {
        "id": "HwQuZu3pfYc9"
      },
      "source": [
        "A class for dealing syllables and laghuguru codes together"
      ]
    },
    {
      "cell_type": "code",
      "execution_count": null,
      "metadata": {
        "id": "xmw1CGj4uwQF"
      },
      "outputs": [],
      "source": [
        "class ml_word:\n",
        "    def __init__(self, word):\n",
        "        self.word = word\n",
        " \n",
        "    def syllables(self):\n",
        "        sign = [3330, 3331, 3390, 3391, 3392, 3393, 3394, 3395, 3396,\n",
        "                3398, 3399, 3400, 3402, 3403, 3404, 3405, 3415]\n",
        "        output = [];connected = False;word_len = len(self.word)\n",
        "        for index in range(word_len):\n",
        "            if ord(self.word[index])<3330 or ord(self.word[index])>3455:connected = False;continue\n",
        "            if not connected:output.append(self.word[index])\n",
        "            else:output[-1] += self.word[index]\n",
        "            if index+1 >= word_len:continue\n",
        "            elif ord(self.word[index+1]) in sign:connected = True\n",
        "            elif ord(self.word[index]) in [3405]:\n",
        "                nonsigncharacters = \"\"\n",
        "                for character in output[-1]:\n",
        "                    if ord(character) not in sign:nonsigncharacters = nonsigncharacters + character\n",
        "                if output[-1].count(chr(3405))<2:connected = True\n",
        "                elif (ord(self.word[index+1]) in [i for i in range(3375,3386)]):\n",
        "                    if len(nonsigncharacters)<3:connected = True\n",
        "                    else:connected = False\n",
        "                else:\n",
        "                    connected = False\n",
        "                    for character in nonsigncharacters:\n",
        "                        if (ord(character) in [i for i in range(3375,3386)]):\n",
        "                            connected = True\n",
        "                            break\n",
        "            elif ord(self.word[index]) in [3451]:connected = True if ord(self.word[index+1])==3377 else False\n",
        "            else:connected = False\n",
        "        return output\n",
        "    def laghuguru(self):\n",
        "      syllable=self.syllables()\n",
        "      size=len(syllable)\n",
        "      mathra=[None]*size\n",
        "      for oneChar in syllable:\n",
        "          if not oneChar  in ['ആ', 'ഈ', 'ഊ', 'ഏ', 'ഓ', 'ഔ']:\n",
        "              if not oneChar[-1][-1] in ['ാ', 'ീ', 'ൂ', 'േ', 'ൈ', 'ോ', 'ൌ', 'ൗ', 'ം', 'ഃ']:\n",
        "                  syindex=syllable.index(oneChar)\n",
        "                  if (syllable.count(oneChar)>0):\n",
        "                      for index, value in enumerate(syllable):\n",
        "                          if (value ==oneChar):\n",
        "                              mathra[index] = 'L'\n",
        "      \n",
        "          if (len(oneChar)>= 1):\n",
        "              if oneChar[-1][-1] in ['്']:\n",
        "                  if (syllable.count(oneChar)==1):\n",
        "                      syindex=syllable.index(oneChar)\n",
        "                      mathra[syindex]=' '\n",
        "                      mathra[syindex - 1] = 'G'\n",
        "                  else:\n",
        "                      for index, value in enumerate(syllable):\n",
        "                          if (value ==oneChar):\n",
        "                              mathra[index]=' '\n",
        "              if oneChar  in ['ആ', 'ഈ', 'ഊ', 'ഏ', 'ഓ', 'ഔ']:\n",
        "                  if (syllable.count(oneChar)==1):\n",
        "                      syindex=syllable.index(oneChar)\n",
        "                      mathra[syindex]='G'\n",
        "                  else:\n",
        "                      if (syllable.count(oneChar)>0):\n",
        "                          for index, value in enumerate(syllable):\n",
        "                              if (value ==oneChar):mathra[index] = 'G'\n",
        "              if oneChar[-1][-1] in ['ാ', 'ീ', 'ൂ', 'േ', 'ൈ', 'ോ', 'ൌ', 'ൗ', 'ം', 'ഃ']:\n",
        "                  if (syllable.count(oneChar)==1):\n",
        "                      syindex=syllable.index(oneChar)\n",
        "                      mathra[syindex]='G'\n",
        "                  else:\n",
        "                      if (syllable.count(oneChar)>0):\n",
        "                          for index, value in enumerate(syllable):\n",
        "                              if (value ==oneChar):mathra[index] = 'G'\n",
        "          for oneChar in syllable:\n",
        "              if (len(oneChar)> 2):\n",
        "                  if oneChar[1][0] in ['്']:\n",
        "                      if (syllable.count(oneChar)==1):\n",
        "                          syindex=syllable.index(oneChar)\n",
        "                          mathra[syindex-1]='G'\n",
        "                      else:\n",
        "                          for index, value in enumerate(syllable):\n",
        "                              if (value ==oneChar):\n",
        "                                  mathra[index-1]='G'\n",
        "                                        \n",
        "              if (len(oneChar)>= 2):\n",
        "                  if oneChar[-1][-1] in ['ൈ']:\n",
        "                      if (syllable.count(oneChar)==1):\n",
        "                          syindex=syllable.index(oneChar)\n",
        "                          mathra[syindex-1]='G'\n",
        "                      else:\n",
        "                          for index, value in enumerate(syllable):\n",
        "                              if (value ==oneChar):\n",
        "                                  mathra[index-1]='G'\n",
        "\n",
        "      \n",
        "          for oneChar in syllable:\n",
        "              if oneChar in ['ൺ', 'ൻ', 'ർ', 'ൽ', 'ൾ']:\n",
        "                  if (syllable.count(oneChar)==1):\n",
        "                      syindex=syllable.index(oneChar)\n",
        "                      mathra[syindex]=' '\n",
        "                      mathra[syindex-1]='G'\n",
        "        \n",
        "                  else:\n",
        "                      if (syllable.count(oneChar)>0):\n",
        "                          for index, value in enumerate(syllable):\n",
        "                              if (value ==oneChar):\n",
        "                                mathra[index] = ' '\n",
        "                                mathra[index-1]='G'\n",
        "\n",
        "      #print(mathra,end='')\n",
        "      return mathra"
      ]
    },
    {
      "cell_type": "code",
      "execution_count": null,
      "metadata": {
        "colab": {
          "base_uri": "https://localhost:8080/",
          "height": 116
        },
        "id": "UKXbEB6grWms",
        "outputId": "473718ef-7d68-42c4-ae91-c6e56354aa61"
      },
      "outputs": [
        {
          "name": "stdout",
          "output_type": "stream",
          "text": [
            "Input: നില്ക്കേണം\n",
            " Your option : 2\n"
          ]
        },
        {
          "data": {
            "text/html": [
              "<style  type=\"text/css\" >\n",
              "</style><table id=\"T_d4a711b2_3493_11ec_bd4b_0242ac1c0002\" ><thead>    <tr>        <th class=\"blank level0\" ></th>        <th class=\"col_heading level0 col0\" >0</th>        <th class=\"col_heading level0 col1\" >1</th>        <th class=\"col_heading level0 col2\" >2</th>    </tr></thead><tbody>\n",
              "                <tr>\n",
              "                        <th id=\"T_d4a711b2_3493_11ec_bd4b_0242ac1c0002level0_row0\" class=\"row_heading level0 row0\" >Syllable</th>\n",
              "                        <td id=\"T_d4a711b2_3493_11ec_bd4b_0242ac1c0002row0_col0\" class=\"data row0 col0\" >നി</td>\n",
              "                        <td id=\"T_d4a711b2_3493_11ec_bd4b_0242ac1c0002row0_col1\" class=\"data row0 col1\" >ല്ക്കേ</td>\n",
              "                        <td id=\"T_d4a711b2_3493_11ec_bd4b_0242ac1c0002row0_col2\" class=\"data row0 col2\" >ണം</td>\n",
              "            </tr>\n",
              "            <tr>\n",
              "                        <th id=\"T_d4a711b2_3493_11ec_bd4b_0242ac1c0002level0_row1\" class=\"row_heading level0 row1\" >Mathra</th>\n",
              "                        <td id=\"T_d4a711b2_3493_11ec_bd4b_0242ac1c0002row1_col0\" class=\"data row1 col0\" >G</td>\n",
              "                        <td id=\"T_d4a711b2_3493_11ec_bd4b_0242ac1c0002row1_col1\" class=\"data row1 col1\" >G</td>\n",
              "                        <td id=\"T_d4a711b2_3493_11ec_bd4b_0242ac1c0002row1_col2\" class=\"data row1 col2\" >G</td>\n",
              "            </tr>\n",
              "    </tbody></table>"
            ],
            "text/plain": [
              "<pandas.io.formats.style.Styler at 0x7fe6c9920310>"
            ]
          },
          "metadata": {},
          "output_type": "display_data"
        }
      ],
      "source": [
        "# cell 8\n",
        "# run cell 1, 2 and 7 before this cell\n",
        "#test\n",
        "word = ml_word(str(input(\"Input: \")))\n",
        "syllables = word.syllables()\n",
        "mathra = word.laghuguru()\n",
        "option = int(input(\" Your option : \"))\n",
        "if option == 1:pass\n",
        "elif option == 2:mathra[-1] = 'G'\n",
        "else:print(\"Default 1\")\n",
        "table_dictionary = {'Syllable':(syllables), 'Mathra':(mathra)}\n",
        "df=pd.DataFrame(table_dictionary)\n",
        "df=df.T\n",
        "display(df.style)"
      ]
    },
    {
      "cell_type": "markdown",
      "metadata": {
        "id": "_dXdkvCAeRjX"
      },
      "source": [
        "Following code load example kavitha/film songs then show data from it"
      ]
    },
    {
      "cell_type": "code",
      "execution_count": null,
      "metadata": {
        "id": "YM1U2cgBvz8h"
      },
      "outputs": [],
      "source": [
        "# cell 9\n",
        "# run cell 1, 2 and 7 before this cell\n",
        "\n",
        "def alignwithspace(text,syllable): # left align a text\n",
        "    length = len(syllable)\n",
        "    sign = [3330, 3331, 3390, 3391, 3392, 3393, 3394, 3395, 3396,\n",
        "            3398, 3399, 3400, 3402, 3403, 3404, 3405, 3415] # if sign lack space\n",
        "    output = \"\"\n",
        "    sign_count = len(syllable)\n",
        "    for i in range(0,length):\n",
        "        if ord(syllable[i]) in sign:sign_count-=1\n",
        "        if i<len(text):output+=text[i]\n",
        "        else:output+=\" \"\n",
        "    return output[0:sign_count]+\"  \" # + 2 space\n",
        "\n",
        "#formattext - This code align text for easy reading \n",
        "def formattext(syllables,mathra):\n",
        "    output = []\n",
        "    temp_sy = [];temp_lg = []\n",
        "    limit = 20\n",
        "    for index, syllable in enumerate(syllables):\n",
        "        temp_sy.append(syllable)\n",
        "        #temp_lg.append(mathra[index].replace(\" \",'-'))\n",
        "        temp_lg.append(alignwithspace(mathra[index].replace(\" \",'-'),syllable))\n",
        "        if ((len(temp_sy)==limit) or(index+1==len(syllables))):\n",
        "            output.append(temp_sy);output.append(temp_lg)\n",
        "            temp_sy = [];temp_lg = []\n",
        "    return output\n",
        "\n",
        "def changelastLAGHUtoGURU(laghugurutext):\n",
        "    for i in range(0,len(laghugurutext)):\n",
        "        if laghugurutext[-1-i].upper() == 'L':\n",
        "            if i==0:return laghugurutext[0:-1]+'G'\n",
        "            else:return laghugurutext[0:-1-i]+'G'+laghugurutext[-i:]\n",
        "    return laghugurutext\n",
        "\n",
        "def sort_second_column(arr):\n",
        "    output = sorted(arr, key=lambda x: x[1][4])\n",
        "    return output\n",
        "\n",
        "def sort_output(arr):\n",
        "    first_column_sorted = sorted(arr, key=lambda x: x[0][4])\n",
        "    second_column_sorted = []\n",
        "    temp_second = []\n",
        "    prev_val = -1\n",
        "    for index, item in enumerate(first_column_sorted):\n",
        "        if index+1>=len(first_column_sorted):\n",
        "            if item[0][4]==prev_val:temp_second.append(item)\n",
        "            else:\n",
        "                if len(temp_second)>0:second_column_sorted.extend(sort_second_column(temp_second))\n",
        "                temp_second = [];temp_second.append(item)\n",
        "            second_column_sorted.extend(sort_second_column(temp_second))\n",
        "        else:\n",
        "            if item[0][4]==prev_val:temp_second.append(item)\n",
        "            else:\n",
        "                prev_val = item[0][4]\n",
        "                if len(temp_second)>0:second_column_sorted.extend(sort_second_column(temp_second))\n",
        "                temp_second = [];temp_second.append(item)\n",
        "    new_output = []\n",
        "    for row in second_column_sorted:\n",
        "        temp_row = []\n",
        "        for column in row:\n",
        "            temp_column = []\n",
        "            for item in column:\n",
        "                temp_column.append(str(item))\n",
        "            temp_row.append(\"\".join(temp_column))\n",
        "        new_output.append(temp_row)\n",
        "    return new_output\n",
        "        \n",
        "lakshanam_collections = [] \n",
        "\n",
        "examplefilename = 'https://raw.githubusercontent.com/dcbfoss/vritham/test/example2.csv'\n",
        "examplecsvresponse = requests.get(examplefilename)\n",
        "examplecsvfile = codecs.iterdecode(examplecsvresponse.iter_lines(), 'UTF-8')\n",
        "examplecsvreader = csv.reader(examplecsvfile)\n",
        "with open('samples.csv', 'w', encoding='utf-8') as outputfile:\n",
        "    examplecsvwriter = csv.writer(outputfile)\n",
        "    word = ml_word(\"\")\n",
        "    output_data = []\n",
        "    for row in examplecsvreader:\n",
        "        row_data = []\n",
        "        for column_index, column in enumerate(row):\n",
        "            word.word = column\n",
        "            syllables = word.syllables()\n",
        "            laghuguru = \"\".join(word.laghuguru())\n",
        "            if column_index == 1:\n",
        "                laghuguru = changelastLAGHUtoGURU(laghuguru) # last one changed to guru --  \n",
        "            laghuguru_nospace = laghuguru.replace(\" \",\"\")   \n",
        "            mathra = calculatemathra(laghuguru_nospace)\n",
        "            syllable_length = len(syllables)\n",
        "            lakshanam = get_maathra(laghuguru_nospace)  \n",
        "            vritham = keydictionary.get(lakshanam.upper(),[])\n",
        "            for index_i, item_x in enumerate(vritham):\n",
        "                vritham[index_i] = str(item_x)\n",
        "            formattedtext = formattext(syllables,laghuguru)\n",
        "            output_text = \"\"\n",
        "            for text in formattedtext:\n",
        "                output_text += \" \".join(text)+\";\"\n",
        "            #\", \".join(syllables)+\";\"+str(laghuguru)\n",
        "            if len(lakshanam)>0:lakshanam_collections.append(lakshanam)\n",
        "            if len(vritham)>0:\n",
        "                row_data.append([column,\";\",output_text,\"M\",mathra,\" S\",str(syllable_length),\" \",str(lakshanam),\";\",\" \".join(vritham)])\n",
        "            else:\n",
        "                row_data.append([column,\";\",output_text,\"M\",mathra,\" S\",str(syllable_length),\" \",str(lakshanam)])\n",
        "        output_data.append(row_data)\n",
        "    final_output = sort_output(output_data)\n",
        "    examplecsvwriter.writerows(final_output)\n"
      ]
    },
    {
      "cell_type": "code",
      "execution_count": null,
      "metadata": {
        "colab": {
          "base_uri": "https://localhost:8080/"
        },
        "id": "0w-sTtd_8sRa",
        "outputId": "3b0e2354-198e-4159-82bf-c231300b2c34"
      },
      "outputs": [
        {
          "name": "stdout",
          "output_type": "stream",
          "text": [
            "2924\n",
            " \tS\tN\tJ\tB\tR\tY\tT\tM\tG\tL\t\n",
            "S\t51\t27\t18\t37\t51\t17\t22\t42\t0\t0\t\n",
            "N\t32\t59\t18\t37\t24\t18\t17\t14\t0\t0\t\n",
            "J\t32\t34\t25\t33\t44\t24\t25\t19\t0\t0\t\n",
            "B\t25\t29\t28\t83\t46\t16\t40\t26\t0\t0\t\n",
            "R\t29\t27\t33\t52\t78\t14\t58\t31\t0\t0\t\n",
            "Y\t31\t35\t24\t21\t30\t38\t32\t25\t0\t0\t\n",
            "T\t27\t25\t28\t48\t40\t7\t53\t23\t0\t0\t\n",
            "M\t35\t32\t33\t44\t53\t21\t45\t57\t0\t0\t\n",
            "G\t44\t27\t32\t35\t64\t57\t33\t92\t164\t44\t\n",
            "L\t23\t11\t8\t12\t28\t16\t9\t17\t43\t23\t\n"
          ]
        }
      ],
      "source": [
        "# cell 10\n",
        "# run cell 1 and 2 before this cell\n",
        "entries = ['S','N','J','B','R','Y','T','M','G','L']\n",
        "vritham_matrix = create_matrix()\n",
        "kmers = create_kmers(lakshanam_collections)\n",
        "print(len(kmers))\n",
        "for kmer in kmers:\n",
        "    x = entries.index(kmer[0].upper())\n",
        "    y = entries.index(kmer[1].upper())\n",
        "    vritham_matrix[y][x]+=1\n",
        "y_arr = [' '];y_arr.extend(entries)\n",
        "y = [print(str(yval),end=\"\\t\")for yval in y_arr];print()\n",
        "for row_ind in range(len(vritham_matrix)):\n",
        "    x_d = [entries[row_ind]];x_d.extend(vritham_matrix[row_ind])\n",
        "    x = [print(str(xval),end=\"\\t\") for xval in x_d];print()"
      ]
    },
    {
      "cell_type": "markdown",
      "metadata": {
        "id": "cf6rq8lE1m-7"
      },
      "source": [
        "Updated Guru Laghu 14-10-2021"
      ]
    },
    {
      "cell_type": "code",
      "execution_count": null,
      "metadata": {
        "colab": {
          "base_uri": "https://localhost:8080/",
          "height": 164
        },
        "id": "RxKdLbnn1kvV",
        "outputId": "f2855d27-966d-4020-dc10-8983c00018ce"
      },
      "outputs": [
        {
          "name": "stdout",
          "output_type": "stream",
          "text": [
            "Enter the word/sloka : ഭൂമിയ്ക്കു നല്കിടും ഭാഗ്യവും നന്മയും \n",
            "Enter 1 for checking Mathra in a word \n",
            " Enter 2 for checking mathras of  Eradi or sloka\n",
            "\n",
            " Your option : 2\n"
          ]
        },
        {
          "data": {
            "text/html": [
              "<style  type=\"text/css\" >\n",
              "</style><table id=\"T_06ec0e48_30e3_11ec_a07d_0242ac1c0002\" ><thead>    <tr>        <th class=\"blank level0\" ></th>        <th class=\"col_heading level0 col0\" >0</th>        <th class=\"col_heading level0 col1\" >1</th>        <th class=\"col_heading level0 col2\" >2</th>        <th class=\"col_heading level0 col3\" >3</th>        <th class=\"col_heading level0 col4\" >4</th>        <th class=\"col_heading level0 col5\" >5</th>        <th class=\"col_heading level0 col6\" >6</th>        <th class=\"col_heading level0 col7\" >7</th>        <th class=\"col_heading level0 col8\" >8</th>        <th class=\"col_heading level0 col9\" >9</th>        <th class=\"col_heading level0 col10\" >10</th>        <th class=\"col_heading level0 col11\" >11</th>    </tr></thead><tbody>\n",
              "                <tr>\n",
              "                        <th id=\"T_06ec0e48_30e3_11ec_a07d_0242ac1c0002level0_row0\" class=\"row_heading level0 row0\" >Syllable</th>\n",
              "                        <td id=\"T_06ec0e48_30e3_11ec_a07d_0242ac1c0002row0_col0\" class=\"data row0 col0\" >ഭൂ</td>\n",
              "                        <td id=\"T_06ec0e48_30e3_11ec_a07d_0242ac1c0002row0_col1\" class=\"data row0 col1\" >മി</td>\n",
              "                        <td id=\"T_06ec0e48_30e3_11ec_a07d_0242ac1c0002row0_col2\" class=\"data row0 col2\" >യ്ക്കു</td>\n",
              "                        <td id=\"T_06ec0e48_30e3_11ec_a07d_0242ac1c0002row0_col3\" class=\"data row0 col3\" >ന</td>\n",
              "                        <td id=\"T_06ec0e48_30e3_11ec_a07d_0242ac1c0002row0_col4\" class=\"data row0 col4\" >ല്കി</td>\n",
              "                        <td id=\"T_06ec0e48_30e3_11ec_a07d_0242ac1c0002row0_col5\" class=\"data row0 col5\" >ടും</td>\n",
              "                        <td id=\"T_06ec0e48_30e3_11ec_a07d_0242ac1c0002row0_col6\" class=\"data row0 col6\" >ഭാ</td>\n",
              "                        <td id=\"T_06ec0e48_30e3_11ec_a07d_0242ac1c0002row0_col7\" class=\"data row0 col7\" >ഗ്യ</td>\n",
              "                        <td id=\"T_06ec0e48_30e3_11ec_a07d_0242ac1c0002row0_col8\" class=\"data row0 col8\" >വും</td>\n",
              "                        <td id=\"T_06ec0e48_30e3_11ec_a07d_0242ac1c0002row0_col9\" class=\"data row0 col9\" >ന</td>\n",
              "                        <td id=\"T_06ec0e48_30e3_11ec_a07d_0242ac1c0002row0_col10\" class=\"data row0 col10\" >ന്മ</td>\n",
              "                        <td id=\"T_06ec0e48_30e3_11ec_a07d_0242ac1c0002row0_col11\" class=\"data row0 col11\" >യും</td>\n",
              "            </tr>\n",
              "            <tr>\n",
              "                        <th id=\"T_06ec0e48_30e3_11ec_a07d_0242ac1c0002level0_row1\" class=\"row_heading level0 row1\" >Mathra</th>\n",
              "                        <td id=\"T_06ec0e48_30e3_11ec_a07d_0242ac1c0002row1_col0\" class=\"data row1 col0\" >G</td>\n",
              "                        <td id=\"T_06ec0e48_30e3_11ec_a07d_0242ac1c0002row1_col1\" class=\"data row1 col1\" >G</td>\n",
              "                        <td id=\"T_06ec0e48_30e3_11ec_a07d_0242ac1c0002row1_col2\" class=\"data row1 col2\" >L</td>\n",
              "                        <td id=\"T_06ec0e48_30e3_11ec_a07d_0242ac1c0002row1_col3\" class=\"data row1 col3\" >G</td>\n",
              "                        <td id=\"T_06ec0e48_30e3_11ec_a07d_0242ac1c0002row1_col4\" class=\"data row1 col4\" >L</td>\n",
              "                        <td id=\"T_06ec0e48_30e3_11ec_a07d_0242ac1c0002row1_col5\" class=\"data row1 col5\" >G</td>\n",
              "                        <td id=\"T_06ec0e48_30e3_11ec_a07d_0242ac1c0002row1_col6\" class=\"data row1 col6\" >G</td>\n",
              "                        <td id=\"T_06ec0e48_30e3_11ec_a07d_0242ac1c0002row1_col7\" class=\"data row1 col7\" >L</td>\n",
              "                        <td id=\"T_06ec0e48_30e3_11ec_a07d_0242ac1c0002row1_col8\" class=\"data row1 col8\" >G</td>\n",
              "                        <td id=\"T_06ec0e48_30e3_11ec_a07d_0242ac1c0002row1_col9\" class=\"data row1 col9\" >G</td>\n",
              "                        <td id=\"T_06ec0e48_30e3_11ec_a07d_0242ac1c0002row1_col10\" class=\"data row1 col10\" >L</td>\n",
              "                        <td id=\"T_06ec0e48_30e3_11ec_a07d_0242ac1c0002row1_col11\" class=\"data row1 col11\" >G</td>\n",
              "            </tr>\n",
              "    </tbody></table>"
            ],
            "text/plain": [
              "<pandas.io.formats.style.Styler at 0x7f237afc7410>"
            ]
          },
          "metadata": {},
          "output_type": "display_data"
        }
      ],
      "source": [
        "# cell 11\n",
        "import pandas as pd\n",
        "def switch():\n",
        "  vakku = input(\"Enter the word/sloka : \")\n",
        "  print(\"Enter 1 for checking Mathra in a word \\n Enter 2 for checking mathras of  Eradi or sloka\\n\")\n",
        "  option = int(input(\" Your option : \"))\n",
        "  def word():\n",
        "    syllable,mathra=laghuguru(vakku)\n",
        "    table_dictionary = {'Syllable':(syllable), 'Mathra':(mathra)}\n",
        "    df=pd.DataFrame(table_dictionary)\n",
        "    df=df.T\n",
        "    display(df.style)\n",
        "   \n",
        "  def sloka():\n",
        "    syllable,mathra=laghuguru(vakku)\n",
        "    x=syllable[-1]\n",
        "    if x in ['ൺ', 'ൻ', 'ർ', 'ൽ', 'ൾ']:\n",
        "      mathra[-1]=' '\n",
        "    else:\n",
        "      mathra[-1]='G'\n",
        "    table_dictionary = {'Syllable':(syllable), 'Mathra':(mathra)}\n",
        "    df=pd.DataFrame(table_dictionary)\n",
        "    df=df.T\n",
        "    display(df.style)\n",
        "  def syllables(word):\n",
        "    sign = [3330, 3331, 3390, 3391, 3392, 3393, 3394, 3395, 3396,3398, 3399, 3400, 3402, 3403, 3404, 3405, 3415]\n",
        "    output = [];connected = False;word_len = len(word)\n",
        "    for index in range(word_len):\n",
        "      if ord(word[index])<3330 or ord(word[index])>3455:connected = False;continue\n",
        "      if not connected:output.append(word[index])\n",
        "      else:output[-1] += word[index]\n",
        "      if index+1 >= word_len:continue\n",
        "      elif ord(word[index+1]) in sign:connected = True\n",
        "      elif ord(word[index]) in [3405]:\n",
        "        nonsigncharacters = \"\"\n",
        "        for character in output[-1]:\n",
        "          if ord(character) not in sign:nonsigncharacters = nonsigncharacters + character\n",
        "        if output[-1].count(chr(3405))<2:connected = True\n",
        "        elif (ord(word[index+1]) in [i for i in range(3375,3386)]):\n",
        "          if len(nonsigncharacters)<3:connected = True\n",
        "          else:connected = False\n",
        "        else:\n",
        "          connected = False\n",
        "          for character in nonsigncharacters:\n",
        "            if (ord(character) in [i for i in range(3375,3386)]):\n",
        "              connected = True\n",
        "              break\n",
        "      elif ord(word[index]) in [3451]:connected = True if ord(word[index+1])==3377 else False\n",
        "      else:connected = False\n",
        "    return output\n",
        "  def laghuguru(word):\n",
        "    syllable=syllables(word)\n",
        "    #print(syllable)\n",
        "    size=len(syllable)\n",
        "    mathra=[None]*size\n",
        "    for oneChar in syllable:\n",
        "      if not oneChar  in ['ആ', 'ഈ', 'ഊ', 'ഏ', 'ഓ', 'ഔ']:\n",
        "            if not oneChar[-1][-1] in ['ാ', 'ീ', 'ൂ', 'േ', 'ൈ', 'ോ', 'ൌ', 'ൗ', 'ം', 'ഃ']:\n",
        "                syindex=syllable.index(oneChar)\n",
        "                if(syllable.count(oneChar)>0):\n",
        "                    for index, value in enumerate(syllable):\n",
        "                        if (value ==oneChar):\n",
        "                            mathra[index] = 'L'\n",
        "        \n",
        "      if (len(oneChar)>= 1):\n",
        "        if oneChar[-1][-1] in ['്']:\n",
        "          if (syllable.count(oneChar)==1):\n",
        "            syindex=syllable.index(oneChar)\n",
        "            mathra[syindex]=' '\n",
        "          else:\n",
        "            for index, value in enumerate(syllable):\n",
        "              if (value ==oneChar):\n",
        "                mathra[index]=' '\n",
        "        if oneChar  in ['ആ', 'ഈ', 'ഊ', 'ഏ', 'ഓ', 'ഔ']:\n",
        "          if (syllable.count(oneChar)==1):\n",
        "            syindex=syllable.index(oneChar)\n",
        "            mathra[syindex]='G'\n",
        "          else:\n",
        "            if(syllable.count(oneChar)>0):\n",
        "              for index, value in enumerate(syllable):\n",
        "                if (value ==oneChar):mathra[index] = 'G'\n",
        "        if oneChar[-1][-1] in ['ാ', 'ീ', 'ൂ', 'േ', 'ൈ', 'ോ', 'ൌ', 'ൗ', 'ം', 'ഃ']:\n",
        "            if (syllable.count(oneChar)==1):\n",
        "                syindex=syllable.index(oneChar)\n",
        "                mathra[syindex]='G'\n",
        "            else:\n",
        "                if(syllable.count(oneChar)>0):\n",
        "                    for index, value in enumerate(syllable):\n",
        "                        if (value ==oneChar):mathra[index] = 'G'\n",
        "    for oneChar in syllable:\n",
        "        if (len(oneChar)> 2):\n",
        "            if oneChar[1][0] in ['്']:\n",
        "                if (syllable.count(oneChar)==1):\n",
        "                    syindex=syllable.index(oneChar)\n",
        "                    mathra[syindex-1]='G'\n",
        "                else:\n",
        "                    for index, value in enumerate(syllable):\n",
        "                        if (value ==oneChar):\n",
        "                          mathra[index-1]='G'\n",
        "                                          \n",
        "        if (len(oneChar)>= 2):\n",
        "            if oneChar[-1][-1] in ['ൈ']:\n",
        "                if (syllable.count(oneChar)==1):\n",
        "                    syindex=syllable.index(oneChar)\n",
        "                    mathra[syindex-1]='G'\n",
        "                else:\n",
        "                    for index, value in enumerate(syllable):\n",
        "                        if (value ==oneChar):\n",
        "                            mathra[index-1]='G'\n",
        "  \n",
        "    for oneChar in syllable:\n",
        "        if (len(oneChar)> 2):\n",
        "            if oneChar[1][0] in ['്']:\n",
        "                if (syllable.count(oneChar)==1):\n",
        "                    syindex=syllable.index(oneChar)\n",
        "                    if (syllable[syindex-1]) in ['ൺ', 'ൻ', 'ർ', 'ൽ', 'ൾ']:\n",
        "                      mathra[syindex-2]='G'\n",
        "\n",
        "                else:\n",
        "                    for index, value in enumerate(syllable):\n",
        "                        if (value ==oneChar):\n",
        "                          if (syllable[syindex-1]) in ['ൺ', 'ൻ', 'ർ', 'ൽ', 'ൾ']:\n",
        "                            mathra[index-2]='G'   \n",
        "    for oneChar in syllable:\n",
        "        if oneChar in ['ൺ', 'ൻ', 'ർ', 'ൽ', 'ൾ']:\n",
        "          chillu=oneChar\n",
        "          sp = input(\"whether chill %s needs to be strongly pronunced (y/n) : \" % chillu)\n",
        "          if sp=='y':\n",
        "            if (syllable.count(oneChar)==1):\n",
        "                syindex=syllable.index(oneChar)\n",
        "                mathra[syindex-1]='G'\n",
        "                mathra[syindex]=' '\n",
        "            else:\n",
        "                if(syllable.count(oneChar)>0):\n",
        "                    for index, value in enumerate(syllable):\n",
        "                        if (value ==oneChar):\n",
        "                          mathra[index] = ' '\n",
        "                          mathra[index-1] = 'G'\n",
        "\n",
        "          if sp=='n':\n",
        "            if (syllable.count(oneChar)==1):\n",
        "              syindex=syllable.index(oneChar)\n",
        "              mathra[syindex]=' '\n",
        "            else:\n",
        "              if(syllable.count(oneChar)>0):\n",
        "                for index, value in enumerate(syllable):\n",
        "                  if (value ==oneChar):mathra[index] = ' '\n",
        "    return(syllable,mathra) \n",
        "  def default():\n",
        "    print(\"Incorrect option\")\n",
        " \n",
        "# Dictionary Mapping\n",
        "  dict = {1 : word,2 : sloka}\n",
        "  dict.get(option,default)() \n",
        "switch()  "
      ]
    },
    {
      "cell_type": "markdown",
      "metadata": {
        "id": "IapTE8nDfm7-"
      },
      "source": [
        "kavithaset (malayalam kavitha database) processing with docx output"
      ]
    },
    {
      "cell_type": "code",
      "execution_count": null,
      "metadata": {
        "colab": {
          "base_uri": "https://localhost:8080/"
        },
        "id": "rs6ImvJLfmY2",
        "outputId": "bfa72078-307d-417b-a735-3f43ad702b6e"
      },
      "outputs": [
        {
          "name": "stderr",
          "output_type": "stream",
          "text": [
            "2631it [01:08, 46.85it/s]"
          ]
        },
        {
          "name": "stdout",
          "output_type": "stream",
          "text": [
            "['', '', '']\n"
          ]
        },
        {
          "name": "stderr",
          "output_type": "stream",
          "text": [
            "2696it [01:10, 38.31it/s]\n"
          ]
        }
      ],
      "source": [
        "# cell 12\n",
        "# run cells 2 and 7 before this cell\n",
        "kavithafilename = 'https://raw.githubusercontent.com/dcbfoss/vritham/test/kavithasets.csv' # malayalam kavitha dataset (2695 examples)\n",
        "csvresponse = requests.get(kavithafilename)\n",
        "csvfile = codecs.iterdecode(csvresponse.iter_lines(), 'UTF-8')\n",
        "csvreader = csv.reader(csvfile)\n",
        "\n",
        "kavithadata = []\n",
        "index = 0\n",
        "\n",
        "word = ml_word(\"\") # class for handling malayalam words\n",
        "for row in tqdm(csvreader):\n",
        "    index = index + 1\n",
        "    input_text, poet = row[0], row[2]\n",
        "    word.word = input_text\n",
        "    syllables_raw = word.syllables()       # extract syllables\n",
        "    lg_raw = word.laghuguru()              # extract laghuguru\n",
        "    syllables = ','.join(syllables_raw)    # format syllables\n",
        "    laghuguru = ' '.join(lg_raw) \n",
        "    lg_nosign = laghuguru.replace(' ','').replace('-','') # remove signs from laghuguru to find lakshanam and calculate maathra\n",
        "    lakshanam = lakshanam = get_maathra(lg_nosign)\n",
        "    vritham = keydictionary.get(lakshanam.upper(),['','',''])\n",
        "    if vritham == ['','','']:\n",
        "        curr_score = 0\n",
        "        input_a = converttoGL(lakshanam)\n",
        "        for key in keydictionary.keys():\n",
        "            input_b = converttoGL(key)\n",
        "            if difflib.SequenceMatcher(None, input_a, input_b).ratio()>curr_score:\n",
        "                curr_score = difflib.SequenceMatcher(None, input_a, input_b).ratio()\n",
        "                vritham = [curr_score, keydictionary[key][1], key,'prediction']\n",
        "    syllable_count = len(syllables_raw)-''.join(lg_raw).count('-') # avoid - in maathra while counting syllables\n",
        "    try:\n",
        "        if vritham[3]=='prediction':\n",
        "            kavithadata.append([[str(index)],[laghuguru,syllables],[str(syllable_count)],[str(calculatemathra(lg_nosign))],[lakshanam,vritham[1]+' (Match='+str(round(vritham[0],2))+')']])\n",
        "        else:\n",
        "            kavithadata.append([[str(index)],[laghuguru,syllables],[str(syllable_count)],[str(calculatemathra(lg_nosign))],[lakshanam,vritham[1]]])\n",
        "    except:\n",
        "        kavithadata.append([[str(index)],[laghuguru,syllables],[str(syllable_count)],[str(calculatemathra(lg_nosign))],[lakshanam,vritham[1]]])\n",
        "        print(vritham)\n"
      ]
    },
    {
      "cell_type": "code",
      "execution_count": null,
      "metadata": {
        "colab": {
          "base_uri": "https://localhost:8080/"
        },
        "id": "oMSVAyu3s4Zp",
        "outputId": "a819922e-a30b-4de9-c647-01e02347d19b"
      },
      "outputs": [
        {
          "name": "stderr",
          "output_type": "stream",
          "text": [
            "11it [00:00, 65.03it/s]\n"
          ]
        }
      ],
      "source": [
        "# cell 13\n",
        "# run cells 2 and 7 before this cell\n",
        "#kavithafilename = 'https://raw.githubusercontent.com/dcbfoss/vritham/test/test-data/nathonnatha.csv' # nathonnatha dataset (164 examples)\n",
        "#kavithafilename = 'https://raw.githubusercontent.com/dcbfoss/vritham/test/test-data/nathonnatha2.csv' # nathonnatha2 dataset (154 examples)\n",
        "#kavithafilename = 'https://raw.githubusercontent.com/dcbfoss/vritham/test/test-data/keka.csv' # keka dataset (117 examples)\n",
        "#kavithafilename = 'https://raw.githubusercontent.com/dcbfoss/vritham/test/test-data/kakali.csv' # kakali dataset (331 examples)\n",
        "#kavithafilename = 'https://raw.githubusercontent.com/dcbfoss/vritham/test/test-data/kummi.csv' # kummi dataset (14 examples)\n",
        "#kavithafilename = 'https://raw.githubusercontent.com/dcbfoss/vritham/test/test-data/kurathi.csv' # kurathi dataset (60 examples)\n",
        "#kavithafilename = 'https://raw.githubusercontent.com/dcbfoss/vritham/test/test-data/kakali2.csv' # kakali dataset 2 (307 examples)\n",
        "#kavithafilename = 'https://raw.githubusercontent.com/dcbfoss/vritham/test/test-data/maveli-kummi.csv' # maveli-kummi dataset (175 examples)\n",
        "#kavithafilename = 'https://raw.githubusercontent.com/dcbfoss/vritham/test/test-data/keka- nathonatha-sample.csv' # keka - nathonatha sample dataset (8 examples)\n",
        "#kavithafilename = 'https://raw.githubusercontent.com/dcbfoss/vritham/test/test-data/tharangini.csv' # tharangini sample dataset (241 examples)\n",
        "#kavithafilename = 'https://raw.githubusercontent.com/dcbfoss/vritham/test/test-data/tharanginiV10.csv' # tharangini sample dataset (590 examples)\n",
        "#kavithafilename = 'https://raw.githubusercontent.com/dcbfoss/vritham/test/test-data/tharattv3.csv' # tharatt sample dataset (56 examples)\n",
        "#kavithafilename = 'https://raw.githubusercontent.com/dcbfoss/vritham/test/test-data/annanadav2.csv' # annanada sample dataset (39 examples)\n",
        "kavithafilename = 'https://raw.githubusercontent.com/dcbfoss/vritham/test/test-data/gunamerumv1.csv' # gunamerum sample dataset (10 examples)\n",
        "#kavithafilename = 'https://raw.githubusercontent.com/dcbfoss/vritham/test/test-data/upasarppiniv1.csv' # upasarppini sample dataset (14 examples)\n",
        "\n",
        "#kavithafilename = 'https://raw.githubusercontent.com/dcbfoss/vritham/test/data/maveli-kummi-v7.csv' # maveli-kummi V7 dataset (167 examples)\n",
        "#kavithafilename = 'https://raw.githubusercontent.com/dcbfoss/vritham/test/data/omanakuttan-v2.csv' # omanakuttan V2 dataset (40 examples)\n",
        "#kavithafilename = 'https://raw.githubusercontent.com/dcbfoss/vritham/test/data/kakali-v3.csv' # kakali V3 dataset (311 examples)\n",
        "\n",
        "csvresponse = requests.get(kavithafilename)\n",
        "csvfile = codecs.iterdecode(csvresponse.iter_lines(), 'UTF-8')\n",
        "csvreader = csv.reader(csvfile)\n",
        "\n",
        "kavithadata = []\n",
        "index = 0\n",
        "\n",
        "word = ml_word(\"\") # class for handling malayalam words\n",
        "for row in tqdm(csvreader):\n",
        "    index = index + 1\n",
        "    input_text, poet, line_number = row[0], row[2], row[3]\n",
        "    word.word = input_text\n",
        "    syllables_raw = word.syllables()       # extract syllables\n",
        "    syllables = ','.join(syllables_raw)    # format syllables\n",
        "    lg_raw = word.laghuguru()              # extract laghuguru\n",
        "    try:\n",
        "        if int(line_number)%2==0 and lg_raw[-1]=='L':lg_raw[-1]='G'\n",
        "    except:pass\n",
        "    laghuguru = '  '.join(lg_raw) \n",
        "    lg_nosign = laghuguru.replace(' ','').replace('-','') # remove signs from laghuguru to find lakshanam and calculate maathra\n",
        "    lakshanam = lakshanam = get_maathra(lg_nosign)\n",
        "    vritham = keydictionary.get(lakshanam.upper(),['','',''])\n",
        "    if vritham == ['','','']:\n",
        "        curr_score = 0\n",
        "        input_a = converttoGL(lakshanam)\n",
        "        for key in keydictionary.keys():\n",
        "            input_b = converttoGL(key)\n",
        "            if difflib.SequenceMatcher(None, input_a, input_b).ratio()>curr_score:\n",
        "                curr_score = difflib.SequenceMatcher(None, input_a, input_b).ratio()\n",
        "                vritham = [curr_score, keydictionary[key][1], key,'prediction']\n",
        "    syllable_count = len(syllables_raw)-''.join(lg_raw).count('-') # avoid '-' in maathra while counting syllables\n",
        "    for syll, lgg in zip(syllables_raw,lg_raw):\n",
        "        if syll.endswith(chr(3405)) and lgg == '-':syllable_count = syllable_count + 1\n",
        "    try:\n",
        "        if vritham[3]=='prediction':\n",
        "            kavithadata.append([[str(index)],[laghuguru,syllables],[str(syllable_count)],[str(calculatemathra(lg_nosign))],[lakshanam,vritham[1]+' (Match='+str(round(vritham[0],2))+')']])\n",
        "        else:\n",
        "            kavithadata.append([[str(index)],[laghuguru,syllables],[str(syllable_count)],[str(calculatemathra(lg_nosign))],[lakshanam,vritham[1]]])\n",
        "    except:\n",
        "        kavithadata.append([[str(index)],[laghuguru,syllables],[str(syllable_count)],[str(calculatemathra(lg_nosign))],[lakshanam,vritham[1]]])\n",
        "        print(vritham)"
      ]
    },
    {
      "cell_type": "code",
      "execution_count": null,
      "metadata": {
        "colab": {
          "base_uri": "https://localhost:8080/"
        },
        "id": "KZPn2C4tbms7",
        "outputId": "c680d081-c63e-416c-ddf0-cc22a3a6458c"
      },
      "outputs": [
        {
          "name": "stdout",
          "output_type": "stream",
          "text": [
            "Collecting python-docx\n",
            "  Downloading python-docx-0.8.11.tar.gz (5.6 MB)\n",
            "\u001b[K     |████████████████████████████████| 5.6 MB 4.1 MB/s \n",
            "\u001b[?25hRequirement already satisfied: lxml>=2.3.2 in /usr/local/lib/python3.7/dist-packages (from python-docx) (4.2.6)\n",
            "Building wheels for collected packages: python-docx\n",
            "  Building wheel for python-docx (setup.py) ... \u001b[?25l\u001b[?25hdone\n",
            "  Created wheel for python-docx: filename=python_docx-0.8.11-py3-none-any.whl size=184508 sha256=7e46bde8231984c63337b12a290754ed8d877b60b0b383e2f715fda9cad3184f\n",
            "  Stored in directory: /root/.cache/pip/wheels/f6/6f/b9/d798122a8b55b74ad30b5f52b01482169b445fbb84a11797a6\n",
            "Successfully built python-docx\n",
            "Installing collected packages: python-docx\n",
            "Successfully installed python-docx-0.8.11\n"
          ]
        }
      ],
      "source": [
        "# cell 14\n",
        "# working with docx\n",
        "!pip install python-docx\n",
        "from docx import Document\n",
        "from docx.enum.section import WD_ORIENT"
      ]
    },
    {
      "cell_type": "code",
      "execution_count": null,
      "metadata": {
        "colab": {
          "base_uri": "https://localhost:8080/"
        },
        "id": "nsuZmevWbuS_",
        "outputId": "2135afe0-dbf7-439e-ba6c-71931d4c7e64"
      },
      "outputs": [
        {
          "name": "stderr",
          "output_type": "stream",
          "text": [
            "100%|██████████| 11/11 [00:00<00:00, 398.07it/s]\n"
          ]
        }
      ],
      "source": [
        "# cell 15\n",
        "# run cells 12 or 13 and 14 before this cell\n",
        "\n",
        "rowcount = len(kavithadata) # calculated from data in cell before\n",
        "headers = ('No.','','S','M','Vritham')\n",
        "\n",
        "# create a document object\n",
        "kavyaoutput = Document()\n",
        "\n",
        "# change orientation to landscape\n",
        "section = kavyaoutput.sections[-1]\n",
        "section.orientation = WD_ORIENT.LANDSCAPE\n",
        "section.page_height, section.page_width = section.page_width, section.page_height\n",
        "\n",
        "# adding table and header data\n",
        "kavyatable = kavyaoutput.add_table(rows=rowcount+1, cols=len(headers))\n",
        "kavyaheader = kavyatable.rows[0].cells\n",
        "for index, header in enumerate(headers):\n",
        "    kavyaheader[index].paragraphs[0].add_run(header).bold=True\n",
        "\n",
        "def getstyle(data):\n",
        "    output = []\n",
        "    for i in range(len(data[0])):\n",
        "        if data[1][i].upper()=='G':output.append('b')\n",
        "        elif data[1][i].upper()=='L':output.append('i')\n",
        "        else:output.append('s')\n",
        "    return output\n",
        "\n",
        "# writing data\n",
        "for i in tqdm(range(rowcount)):\n",
        "    thisrow = kavyatable.rows[i+1].cells\n",
        "    for j in range(len(headers)):\n",
        "        # run = paragraph.add_run(syllable)\n",
        "        # run.bold = True\n",
        "        # run.italics = True\n",
        "        if len(kavithadata[i][j])>1:thisrow[j].text = \"\\n\".join(kavithadata[i][j])\n",
        "        else:thisrow[j].text = str(kavithadata[i][j][0])\n",
        "\n",
        "# saving document\n",
        "\n",
        "#kavyaoutput.save('kavyaoutput.docx')\n",
        "#kavyaoutput.save('nathonnathaoutput.docx')\n",
        "#kavyaoutput.save('kekaoutput.docx')\n",
        "#kavyaoutput.save('kakalioutput.docx')\n",
        "#kavyaoutput.save('kummioutput.docx')\n",
        "#kavyaoutput.save('kurathioutput.docx')\n",
        "#kavyaoutput.save('kakali2output.docx')\n",
        "#kavyaoutput.save('maveli-kummi.docx')\n",
        "#kavyaoutput.save('omanakuttan.docx')\n",
        "#kavyaoutput.save('tharanginiv10.docx')\n",
        "#kavyaoutput.save('tharattv3.docx')\n",
        "#kavyaoutput.save('annanadav2.docx')\n",
        "kavyaoutput.save('gunamerumv1.docx')\n",
        "#kavyaoutput.save('upasarppiniv1.docx')\n",
        "#kavyaoutput.save('keka-nathonatha-sample.docx')"
      ]
    },
    {
      "cell_type": "code",
      "execution_count": null,
      "metadata": {
        "colab": {
          "base_uri": "https://localhost:8080/"
        },
        "id": "KvNJtSwFc6g0",
        "outputId": "45208f33-d3ae-417f-c16c-d66c07c5bde6"
      },
      "outputs": [
        {
          "name": "stderr",
          "output_type": "stream",
          "text": [
            "145it [00:00, 6458.12it/s]\n"
          ]
        }
      ],
      "source": [
        "# cell 16\n",
        "# run cells 2 and 7 before this cell\n",
        "# exclusive for tharangini\n",
        "kavithafilename = 'https://raw.githubusercontent.com/dcbfoss/vritham/test/test-data/tharanginiv12.csv' # tharangini sample dataset (144 examples)\n",
        "\n",
        "csvresponse = requests.get(kavithafilename)\n",
        "csvfile = codecs.iterdecode(csvresponse.iter_lines(), 'UTF-8')\n",
        "csvreader = csv.reader(csvfile)\n",
        "\n",
        "kavithadata = []\n",
        "index = 0\n",
        "\n",
        "word = ml_word(\"\") # class for handling malayalam words\n",
        "for row in tqdm(csvreader):\n",
        "    index = index + 1\n",
        "    input_text, poet, line_number = row[0], row[2], row[3]\n",
        "    word.word = input_text\n",
        "    syllables_raw = word.syllables()       # extract syllables\n",
        "    syllables = ','.join(syllables_raw)    # format syllables\n",
        "    lg_raw = word.laghuguru()              # extract laghuguru\n",
        "    try:\n",
        "        if int(line_number)%2==0 and lg_raw[-1]=='L':lg_raw[-1]='G'\n",
        "    except:pass\n",
        "    laghuguru = '  '.join(lg_raw) \n",
        "    lg_nosign = laghuguru.replace(' ','').replace('-','') # remove signs from laghuguru to find lakshanam and calculate maathra\n",
        "    glg_count = lg_nosign.upper().count('GLG')\n",
        "    g_count = lg_nosign.upper().count('G')\n",
        "    l_count = lg_nosign.upper().count('L')\n",
        "    g_ratio = round((g_count/len(lg_nosign) * 100),2)\n",
        "    l_ratio = round((l_count/len(lg_nosign) * 100),2)\n",
        "    lakshanam = lakshanam = get_maathra(lg_nosign)\n",
        "    syllable_count = len(syllables_raw)-''.join(lg_raw).count('-') # avoid '-' in maathra while counting syllables\n",
        "    for syll, lgg in zip(syllables_raw,lg_raw):\n",
        "        if syll.endswith(chr(3405)) and lgg == '-':syllable_count = syllable_count + 1\n",
        "    kavithadata.append([[str(index)],[laghuguru,syllables],[str(syllable_count)],[str(calculatemathra(lg_nosign))],['GLG: '+str(glg_count),'G: '+str(g_count)+'; L: '+str(l_count)],['G: '+str(g_ratio),'L: '+str(l_ratio)]])"
      ]
    },
    {
      "cell_type": "code",
      "execution_count": null,
      "metadata": {
        "colab": {
          "base_uri": "https://localhost:8080/"
        },
        "id": "nX3-UtYfgdJZ",
        "outputId": "5b24fe94-f6ba-4cec-d375-ceac7b72405d"
      },
      "outputs": [
        {
          "name": "stderr",
          "output_type": "stream",
          "text": [
            "100%|██████████| 145/145 [00:03<00:00, 43.00it/s]\n"
          ]
        }
      ],
      "source": [
        "# cell 17\n",
        "# run cells 14 and 16 before this cell\n",
        "\n",
        "rowcount = len(kavithadata) # calculated from data in cell before\n",
        "headers = ('No.','','S','M','count','ratio')\n",
        "\n",
        "# create a document object\n",
        "kavyaoutput = Document()\n",
        "\n",
        "# change orientation to landscape\n",
        "section = kavyaoutput.sections[-1]\n",
        "section.orientation = WD_ORIENT.LANDSCAPE\n",
        "section.page_height, section.page_width = section.page_width, section.page_height\n",
        "\n",
        "# adding table and header data\n",
        "kavyatable = kavyaoutput.add_table(rows=rowcount+1, cols=len(headers))\n",
        "kavyaheader = kavyatable.rows[0].cells\n",
        "for index, header in enumerate(headers):\n",
        "    kavyaheader[index].paragraphs[0].add_run(header).bold=True\n",
        "\n",
        "# writing data\n",
        "for i in tqdm(range(rowcount)):\n",
        "    thisrow = kavyatable.rows[i+1].cells\n",
        "    for j in range(len(headers)):\n",
        "        if len(kavithadata[i][j])>1:thisrow[j].text = \"\\n\".join(kavithadata[i][j])\n",
        "        else:thisrow[j].text = str(kavithadata[i][j][0])\n",
        "\n",
        "# saving document\n",
        "kavyaoutput.save('tharanginiv12.docx')"
      ]
    },
    {
      "cell_type": "code",
      "execution_count": null,
      "metadata": {
        "colab": {
          "base_uri": "https://localhost:8080/"
        },
        "id": "92GC5-N-v3Aj",
        "outputId": "da68e9d9-3ec1-4ca9-e6b2-34cd89b980eb"
      },
      "outputs": [
        {
          "name": "stdout",
          "output_type": "stream",
          "text": [
            "reading database\n"
          ]
        },
        {
          "name": "stderr",
          "output_type": "stream",
          "text": [
            "100%|██████████| 2025/2025 [00:42<00:00, 47.95it/s]"
          ]
        },
        {
          "name": "stdout",
          "output_type": "stream",
          "text": [
            "\n",
            "writing output\n",
            "writing completed\n"
          ]
        },
        {
          "name": "stderr",
          "output_type": "stream",
          "text": [
            "\n"
          ]
        }
      ],
      "source": [
        "# cell 18\n",
        "# run cell 1 and 2 (with sanskrit db) before this cell\n",
        "s1=[\"GLL\", \"GGL\", \"GGG\", \"GLG\", \"LGG\"]\n",
        "s2=[\"GG\", \"GL\", \"LG\"]\n",
        "s3=[\"GG\", \"GL\", \"LG\"]\n",
        "s4=[\"GLL\", \"GGL\", \"GGG\", \"GLG\", \"LGG\"] \n",
        "s5=[\"GG\", \"GL\", \"LG\"]\n",
        "s6=[\"GG\", \"GL\", \"LG\"]\n",
        "kekaGL = [];output_match=[] # keka vritham GL strings (2025 combinations)\n",
        "for a in s1:\n",
        "    for b in s2:\n",
        "        for c in s3:\n",
        "            for d in s4:\n",
        "                for e in s5:\n",
        "                    for f in s6:\n",
        "                        kekaGL.append(a+b+c+d+e+f)\n",
        "# Rule 1: find any match in sanskrit only database\n",
        "# Rule 2: if match was not found, report similar if similarity>0.9\n",
        "print(\"reading database\")\n",
        "for glentry in tqdm(kekaGL):\n",
        "    vritham = keydictionary.get(lakshanam.upper(),['','','',''])\n",
        "    if vritham == ['','','','']:\n",
        "        curr_score = 0\n",
        "        for key in keydictionary.keys():\n",
        "            glkey = converttoGL(key)\n",
        "            if difflib.SequenceMatcher(None, glentry, glkey).ratio()>curr_score:\n",
        "                curr_score = difflib.SequenceMatcher(None, glentry, glkey).ratio()\n",
        "                if curr_score>=0.9:vritham = [curr_score, keydictionary[key][1], key,'prediction']\n",
        "    if vritham == ['','','','']:output_match.append(\"--\")\n",
        "    elif vritham[3]== 'prediction':output_match.append(str(round(vritham[0],2))+\";\"+vritham[1])\n",
        "    else:output_match.append(vritham[1])\n",
        "print(\"\\nwriting output\")\n",
        "with open(\"kekaGLstringcomp.csv\",'w') as outfile:\n",
        "    for i, x in enumerate(kekaGL):\n",
        "        outfile.write(x+\",\"+output_match[i]+\"\\n\")\n",
        "    findings = {}\n",
        "    for j in output_match:\n",
        "        if ';' in j:\n",
        "            found = j.split(sep=';')[1]\n",
        "            findings[found] = findings.get(found,0) + 1\n",
        "    for k in findings.keys():\n",
        "        outfile.write(k+\",\"+str(findings[k])+\"\\n\")\n",
        "    print(\"writing completed\")"
      ]
    },
    {
      "cell_type": "code",
      "execution_count": null,
      "metadata": {
        "colab": {
          "base_uri": "https://localhost:8080/"
        },
        "id": "THdU_r5tFqTr",
        "outputId": "b7ed504f-e8c0-40e3-c598-7851df4fb440"
      },
      "outputs": [
        {
          "name": "stdout",
          "output_type": "stream",
          "text": [
            "Enter a lakshanam:RSTR\n",
            "GLGLLGGGLGLG\n"
          ]
        }
      ],
      "source": [
        "# cell 19\n",
        "# run cell 2 before this cell\n",
        "\n",
        "# find my relative\n",
        "\n",
        "inputlakshanam = input(\"Enter a lakshanam:\")\n",
        "print(converttoGL(inputlakshanam)) # test\n",
        "\n",
        "def alignmatrix(a,b):\n",
        "    matrix = []; gap_penality = -1\n",
        "    mismatch = -1; match = 1\n",
        "    for i in range(len(b)+1):\n",
        "        matrix.append([])\n",
        "        for j in range(len(a)+1):\n",
        "            if i==0:matrix[i].append(0-j)\n",
        "            elif j==0:matrix[i].append(0-i)\n",
        "            else:matrix[i].append(0)\n",
        "    for i in range(len(b)):\n",
        "        for j in range(len(a)):\n",
        "            score = match if b[i]==a[j] else mismatch\n",
        "            score = score + matrix[i][j]\n",
        "            top_gap = matrix[i][j+1] + gap_penality\n",
        "            side_gap = matrix[i+1][j] + gap_penality\n",
        "            matrix[i+1][j+1] = max(score, top_gap, side_gap)\n",
        "    return matrix\n",
        "\n",
        "def tracebackmatrix(matrix, a, b):\n",
        "    str1 = '' # store b\n",
        "    str2 = '' # store a\n",
        "    x = len(b)\n",
        "    y = len(a)\n",
        "    mismatch = -1; match = 1;gap_penality = -1\n",
        "    while x>0 or y>0:\n",
        "        score = match if b[x-1]==a[y-1] else mismatch\n",
        "        if (x > 0 and y > 0 and matrix[x][y]==score+matrix[x-1][y-1]):\n",
        "            str1 = b[x-1] + str1\n",
        "            str2 = a[y-1] + str2\n",
        "            x -= 1;y -= 1\n",
        "        elif (x > 0 and matrix[x][y]==gap_penality+matrix[x-1][y]):\n",
        "            str1 = b[x-1] + str1\n",
        "            str2 = '_' + str2\n",
        "            x -= 1\n",
        "        else:\n",
        "            str1 = '_' + str1\n",
        "            str2 = a[y-1] + str2\n",
        "            y -= 1\n",
        "    return (str2, str1)\n"
      ]
    },
    {
      "cell_type": "markdown",
      "metadata": {
        "id": "2iHIHo_tx19Z"
      },
      "source": [
        "similarity check "
      ]
    },
    {
      "cell_type": "code",
      "execution_count": null,
      "metadata": {
        "colab": {
          "base_uri": "https://localhost:8080/"
        },
        "id": "ZCb0YD2Ox1kU",
        "outputId": "2224d430-3960-4210-ef36-03eaf5779b14"
      },
      "outputs": [
        {
          "name": "stdout",
          "output_type": "stream",
          "text": [
            "1.0\n"
          ]
        }
      ],
      "source": [
        "import difflib\n",
        "\n",
        "print(difflib.SequenceMatcher(None, \"GLGLLGGGLGLG\", \"GLGLLGGGLGLG\").ratio())"
      ]
    },
    {
      "cell_type": "code",
      "execution_count": null,
      "metadata": {
        "colab": {
          "base_uri": "https://localhost:8080/"
        },
        "id": "lt8YiiBTyFj5",
        "outputId": "497be27b-bb80-4dbc-931e-1a9eeea2e8b1"
      },
      "outputs": [
        {
          "name": "stdout",
          "output_type": "stream",
          "text": [
            "0.9166666666666666\n"
          ]
        }
      ],
      "source": [
        "print(difflib.SequenceMatcher(None, \"GLGLLGGGLGLG\", \"GLGLLGGGLGLL\").ratio())"
      ]
    },
    {
      "cell_type": "code",
      "execution_count": null,
      "metadata": {
        "colab": {
          "base_uri": "https://localhost:8080/"
        },
        "id": "EquL7UZNchMR",
        "outputId": "08f020fd-59dd-4530-edd5-8f48efa5aad2"
      },
      "outputs": [
        {
          "name": "stdout",
          "output_type": "stream",
          "text": [
            "0.8888888888888888\n"
          ]
        }
      ],
      "source": [
        "from difflib import SequenceMatcher\n",
        "str1 = 'abcd'\n",
        "str2 = 'abcde'\n",
        "seq = SequenceMatcher(a=str1, b=str2)\n",
        "print(seq.ratio())"
      ]
    },
    {
      "cell_type": "markdown",
      "metadata": {
        "id": "ExGLG0vE5hgi"
      },
      "source": [
        "EXp 2:"
      ]
    },
    {
      "cell_type": "code",
      "execution_count": null,
      "metadata": {
        "id": "FZBj0M2o5fjU"
      },
      "outputs": [],
      "source": [
        "import numpy as np\n",
        "\n",
        "def levenshtein(seq1, seq2):\n",
        "    size_x = len(seq1) + 1\n",
        "    size_y = len(seq2) + 1\n",
        "    matrix = np.zeros ((size_x, size_y))\n",
        "    for x in range(size_x):\n",
        "        matrix [x, 0] = x\n",
        "    for y in range(size_y):\n",
        "        matrix [0, y] = y\n",
        "\n",
        "    for x in range(1, size_x):\n",
        "        for y in range(1, size_y):\n",
        "            if seq1[x-1] == seq2[y-1]:\n",
        "                matrix [x,y] = min(\n",
        "                    matrix[x-1, y] + 1,\n",
        "                    matrix[x-1, y-1],\n",
        "                    matrix[x, y-1] + 1\n",
        "                )\n",
        "            else:\n",
        "                matrix [x,y] = min(\n",
        "                    matrix[x-1,y] + 1,\n",
        "                    matrix[x-1,y-1] + 1,\n",
        "                    matrix[x,y-1] + 1\n",
        "                )\n",
        "    print (matrix)\n",
        "    return (matrix[size_x - 1, size_y - 1])"
      ]
    },
    {
      "cell_type": "code",
      "execution_count": null,
      "metadata": {
        "colab": {
          "base_uri": "https://localhost:8080/"
        },
        "id": "7mDEojEE5nOa",
        "outputId": "db3706dc-8eb5-4463-e5f1-f5a9c45c91e3"
      },
      "outputs": [
        {
          "name": "stdout",
          "output_type": "stream",
          "text": [
            "[[ 0.  1.  2.  3.  4.  5.  6.  7.  8.  9. 10. 11.]\n",
            " [ 1.  0.  1.  2.  3.  4.  5.  6.  7.  8.  9. 10.]\n",
            " [ 2.  1.  0.  1.  2.  3.  4.  5.  6.  7.  8.  9.]\n",
            " [ 3.  2.  1.  0.  1.  2.  3.  4.  5.  6.  7.  8.]]\n"
          ]
        },
        {
          "data": {
            "text/plain": [
              "8.0"
            ]
          },
          "execution_count": 36,
          "metadata": {},
          "output_type": "execute_result"
        }
      ],
      "source": [
        "levenshtein(\"GLG\", \"GLGLLLLLLLL\")"
      ]
    },
    {
      "cell_type": "code",
      "execution_count": null,
      "metadata": {
        "colab": {
          "base_uri": "https://localhost:8080/"
        },
        "id": "GVOIsTdg6Lgw",
        "outputId": "a0b100b0-291c-4542-b813-6ec9a85a7b10"
      },
      "outputs": [
        {
          "name": "stdout",
          "output_type": "stream",
          "text": [
            "[[ 0.  1.  2.  3.]\n",
            " [ 1.  0.  1.  2.]\n",
            " [ 2.  1.  0.  1.]\n",
            " [ 3.  2.  1.  0.]\n",
            " [ 4.  3.  2.  1.]\n",
            " [ 5.  4.  3.  2.]\n",
            " [ 6.  5.  4.  3.]\n",
            " [ 7.  6.  5.  4.]\n",
            " [ 8.  7.  6.  5.]\n",
            " [ 9.  8.  7.  6.]\n",
            " [10.  9.  8.  7.]\n",
            " [11. 10.  9.  8.]\n",
            " [12. 11. 10.  9.]]\n"
          ]
        },
        {
          "data": {
            "text/plain": [
              "9.0"
            ]
          },
          "execution_count": 49,
          "metadata": {},
          "output_type": "execute_result"
        }
      ],
      "source": [
        "levenshtein(\"GLGLLGGGLGLG\", \"GLG\")"
      ]
    },
    {
      "cell_type": "code",
      "execution_count": null,
      "metadata": {
        "colab": {
          "base_uri": "https://localhost:8080/"
        },
        "id": "xLvL8gmwgQdb",
        "outputId": "73d2fa7b-2593-49f0-f41b-2f725895e47f"
      },
      "outputs": [
        {
          "name": "stdout",
          "output_type": "stream",
          "text": [
            "Collecting textdistance\n",
            "  Downloading textdistance-4.2.1-py3-none-any.whl (28 kB)\n",
            "Installing collected packages: textdistance\n",
            "Successfully installed textdistance-4.2.1\n"
          ]
        }
      ],
      "source": [
        "pip install textdistance"
      ]
    },
    {
      "cell_type": "code",
      "execution_count": null,
      "metadata": {
        "colab": {
          "base_uri": "https://localhost:8080/"
        },
        "id": "WpaqRXIsgHVA",
        "outputId": "ef6ba196-457d-4421-aae2-ff5afd9e1ae0"
      },
      "outputs": [
        {
          "data": {
            "text/plain": [
              "2"
            ]
          },
          "execution_count": 39,
          "metadata": {},
          "output_type": "execute_result"
        }
      ],
      "source": [
        "import textdistance\n",
        "\n",
        "textdistance.hamming('test', 'text')\n",
        "# 1\n",
        "\n",
        "textdistance.hamming.distance('test', 'text')\n",
        "# 1\n",
        "\n",
        "textdistance.hamming.similarity('test', 'text')\n",
        "# 3\n",
        "\n",
        "textdistance.hamming.normalized_distance('test', 'text')\n",
        "# 0.25\n",
        "\n",
        "textdistance.hamming.normalized_similarity('test', 'text')\n",
        "# 0.75\n",
        "\n",
        "textdistance.Hamming(qval=2).distance('test', 'text')\n",
        "# 2"
      ]
    },
    {
      "cell_type": "code",
      "execution_count": null,
      "metadata": {
        "colab": {
          "base_uri": "https://localhost:8080/"
        },
        "id": "qTUq-00Ggj5z",
        "outputId": "3089d8ef-e71d-4a6f-888e-f6ed48c2e17e"
      },
      "outputs": [
        {
          "data": {
            "text/plain": [
              "3"
            ]
          },
          "execution_count": 40,
          "metadata": {},
          "output_type": "execute_result"
        }
      ],
      "source": [
        "import textdistance\n",
        "hamming = textdistance.Hamming(external=False)\n",
        "hamming('text', 'testit')"
      ]
    },
    {
      "cell_type": "code",
      "execution_count": null,
      "metadata": {
        "colab": {
          "base_uri": "https://localhost:8080/"
        },
        "id": "mzMjZujqg3BK",
        "outputId": "a16b061d-f5e3-4c1e-f111-9d63872746e9"
      },
      "outputs": [
        {
          "data": {
            "text/plain": [
              "1.0"
            ]
          },
          "execution_count": 41,
          "metadata": {},
          "output_type": "execute_result"
        }
      ],
      "source": [
        "import textdistance\n",
        "hamming = textdistance.\tNeedlemanWunsch(external=False)\n",
        "hamming('text', 'testit')"
      ]
    },
    {
      "cell_type": "code",
      "execution_count": null,
      "metadata": {
        "colab": {
          "base_uri": "https://localhost:8080/"
        },
        "id": "NtIl4R7EhYUo",
        "outputId": "fe301055-f4d8-4b17-814e-ee0821b55e5c"
      },
      "outputs": [
        {
          "data": {
            "text/plain": [
              "7"
            ]
          },
          "execution_count": 43,
          "metadata": {},
          "output_type": "execute_result"
        }
      ],
      "source": [
        "import textdistance\n",
        "hamming = textdistance.Hamming(external=False)\n",
        "hamming('GLGLLGGGLGLG', 'GLGGLGLL')"
      ]
    }
  ],
  "metadata": {
    "colab": {
      "collapsed_sections": [],
      "name": "vritham.ipynb",
      "provenance": []
    },
    "kernelspec": {
      "display_name": "Python 3",
      "name": "python3"
    },
    "language_info": {
      "name": "python"
    }
  },
  "nbformat": 4,
  "nbformat_minor": 0
}
